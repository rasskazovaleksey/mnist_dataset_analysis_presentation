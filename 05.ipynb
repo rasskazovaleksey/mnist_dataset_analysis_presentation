{
 "cells": [
  {
   "cell_type": "code",
   "execution_count": null,
   "metadata": {},
   "outputs": [],
   "source": [
    "from utils.mnist_reader import load_mnist\n",
    "from sklearn import linear_model\n",
    "from sklearn.model_selection import train_test_split\n",
    "from sklearn.metrics import r2_score\n",
    "from sklearn.preprocessing import Normalizer\n",
    "\n",
    "# X, y = load_mnist(path=\"data/fashion\", kind=\"train\")\n",
    "X, y = load_mnist(path=\"data/mnist\", kind=\"train\")\n",
    "\n",
    "X_train, X_test, Y_train, Y_test = train_test_split(X, y, test_size = .20, random_state = 40)\n",
    "    \n",
    "model = linear_model.LinearRegression() # Do not use fit_intercept = False if you have removed 1 column after dummy encoding\n",
    "model.fit(X_train, Y_train)"
   ]
  },
  {
   "cell_type": "code",
   "execution_count": null,
   "metadata": {},
   "outputs": [],
   "source": [
    "from sklearn.metrics import accuracy_score,classification_report,confusion_matrix, f1_score\n",
    "import numpy as np\n",
    "\n",
    "print(f\"R-score before Y normalisation: {r2_score(model.predict(X_test), Y_test)}\")\n",
    "\n",
    "y_test = Y_test\n",
    "y_pred = np.round(model.predict(X_test)).astype(np.int64)\n",
    "print(f\"Accuracy of predictions:        {accuracy_score(y_test,y_pred)}\")\n",
    "print(y_test)\n",
    "print(y_pred)\n",
    "print(f\"R-score after Y normalisation:  {r2_score(y_test, y_pred)}\")"
   ]
  },
  {
   "cell_type": "code",
   "execution_count": null,
   "metadata": {},
   "outputs": [],
   "source": [
    "from sklearn.preprocessing import MinMaxScaler\n",
    "\n",
    "def normalize(x):\n",
    "    'normalize input vectors'\n",
    "    scaler = MinMaxScaler(feature_range=(0, 1))\n",
    "    scaler.fit(x)\n",
    "    return scaler.transform(x)\n",
    "\n",
    "X = normalize(X)\n",
    "X_train, X_test, Y_train, Y_test = train_test_split(X, y, test_size = .20, random_state = 40)\n",
    "    \n",
    "model = linear_model.LinearRegression() # Do not use fit_intercept = False if you have removed 1 column after dummy encoding\n",
    "model.fit(X_train, Y_train)\n",
    "\n",
    "print(f\"R-score before Y normalisation: {r2_score(model.predict(X_test), Y_test)}\")\n",
    "\n",
    "y_test = Y_test\n",
    "y_pred = np.round(model.predict(X_test)).astype(np.int64)\n",
    "print(f\"Accuracy of predictions:        {accuracy_score(y_test,y_pred)}\")\n",
    "print(f\"R-score after Y normalisation:  {r2_score(y_test, y_pred)}\")\n",
    "print(f\"R-score after Y normalisation:  {r2_score(y_test.astype(np.float64), y_pred.astype(np.float64))}\")"
   ]
  }
 ],
 "metadata": {
  "language_info": {
   "name": "python"
  }
 },
 "nbformat": 4,
 "nbformat_minor": 2
}
